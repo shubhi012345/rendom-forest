{
 "cells": [
  {
   "cell_type": "code",
   "execution_count": null,
   "id": "85a5efd5",
   "metadata": {},
   "outputs": [],
   "source": [
    "x=0\n",
    "while x<5:\n",
    "    x+=1\n",
    "    print(x)"
   ]
  },
  {
   "cell_type": "code",
   "execution_count": null,
   "id": "1b95a392",
   "metadata": {
    "scrolled": true
   },
   "outputs": [],
   "source": [
    "l=[9254, 910,5876,6396,9845]\n",
    "i=0\n",
    "while i < len(l):\n",
    "    if str(int(i))[0]==9:\n",
    "        print(i)\n",
    "    i+=1\n",
    "    print(i)\n",
    "    if str(int(i))[0]==9:\n",
    "        print (i)\n",
    "    \n",
    "      \n",
    "    \n",
    "\n"
   ]
  },
  {
   "cell_type": "code",
   "execution_count": null,
   "id": "c072096a",
   "metadata": {},
   "outputs": [],
   "source": [
    "#jump statemnet\n",
    "for i in range(1,6):\n",
    "    if i==3:\n",
    "        break\n",
    "    print(i)"
   ]
  },
  {
   "cell_type": "code",
   "execution_count": null,
   "id": "6758fa86",
   "metadata": {},
   "outputs": [],
   "source": [
    "for i in range(1,6):\n",
    "    if i==3:\n",
    "        continue\n",
    "    print(i)"
   ]
  },
  {
   "cell_type": "code",
   "execution_count": null,
   "id": "b8acc662",
   "metadata": {},
   "outputs": [],
   "source": [
    "for i in range (1,6):\n",
    "    print(i)\n",
    "    if i==3:\n",
    "        break"
   ]
  },
  {
   "cell_type": "code",
   "execution_count": null,
   "id": "ee2c6449",
   "metadata": {},
   "outputs": [],
   "source": [
    "for i in range (1,10):\n",
    "    if i%2==0:\n",
    "        break\n",
    "    if i%2==1:\n",
    "        continue\n",
    "    print(i)\n",
    "    \n",
    "    "
   ]
  },
  {
   "cell_type": "code",
   "execution_count": null,
   "id": "61fe2b6c",
   "metadata": {},
   "outputs": [],
   "source": [
    "for i in range (1,10):\n",
    "    print(i)\n",
    "    if i<5:\n",
    "        continue\n",
    "    if i%3:\n",
    "        break\n",
    "    print(i)"
   ]
  },
  {
   "cell_type": "code",
   "execution_count": null,
   "id": "11b2c526",
   "metadata": {},
   "outputs": [],
   "source": [
    "for x in range (1,10):\n",
    "    i=4\n",
    "    if x>i:\n",
    "        break\n",
    "else:\n",
    "     continue\n",
    "print (i)\n"
   ]
  },
  {
   "cell_type": "code",
   "execution_count": null,
   "id": "58638d0d",
   "metadata": {},
   "outputs": [],
   "source": [
    "for  i in range (1,15):\n",
    "    if i%2==0 and i%5==1:\n",
    "        continue\n",
    "    print(i)\n",
    "    "
   ]
  },
  {
   "cell_type": "code",
   "execution_count": 4,
   "id": "934ab331",
   "metadata": {},
   "outputs": [
    {
     "name": "stdout",
     "output_type": "stream",
     "text": [
      "Odd characters: ['e', 'l', ' ', 'o', 'l']\n",
      "Even characters: ['h', 'l', 'o', 'w', 'r', 'd']\n"
     ]
    }
   ],
   "source": [
    " #practice questions                                   \n",
    "#Print characters from a string that are present at an even index number\n",
    "given_str = 'hello world'\n",
    "# given input string\n",
    "even_characters = []  # For storing even characters\n",
    "odd_characters = []  # For storing odd characters\n",
    "for i in range(len(given_str)):\n",
    "    if i % 2 == 0:  # check if the index is even\n",
    "        even_characters.append(given_str[i])\n",
    "    else:\n",
    "        odd_characters.append(given_str[i])\n",
    "# print the odd characters\n",
    "print('Odd characters: {}'.format(odd_characters)) \n",
    "# print the even characters\n",
    "print('Even characters: {}'.format(even_characters))"
   ]
  },
  {
   "cell_type": "code",
   "execution_count": null,
   "id": "e7f4032a",
   "metadata": {},
   "outputs": [],
   "source": [
    "#Check if the first and last number of a list is the same\n",
    "l = [1,2,3,4,5,6,7,2]\n",
    "if l[0] == l[-1]:\n",
    "    print('first and last value are equal')\n",
    "else:\n",
    "print('first value and last value are not equal')    \n"
   ]
  },
  {
   "cell_type": "code",
   "execution_count": null,
   "id": "642a64a4",
   "metadata": {},
   "outputs": [],
   "source": [
    "#Write a Python program to check whether a string starts with vowel or not\n",
    "s = 'apple'\n",
    "for i in s:\n",
    "    if i[0]==i=='a'or i=='e' or i=='i' or i=='o' or i=='u':\n",
    "        print(\"start with vowel\")\n",
    "else: \n",
    "        print(\"not start with vowel\")"
   ]
  },
  {
   "cell_type": "code",
   "execution_count": null,
   "id": "2a5c2cf8",
   "metadata": {},
   "outputs": [],
   "source": [
    "# Calculate income tax for the input income by adhering to the Indian rules.\n"
   ]
  },
  {
   "cell_type": "code",
   "execution_count": null,
   "id": "22bdc7b2",
   "metadata": {},
   "outputs": [],
   "source": [
    "#Write a Python program to check if all the characters of a string are vowel or not\n",
    "s = 'apple'\n",
    "for i in s:\n",
    "    if i[0:]==i=='a'or i=='e' or i=='i' or i=='o' or i=='u':\n",
    "        print(\"character are vowel\")\n",
    "else:print(\"character are not vowel\")"
   ]
  },
  {
   "cell_type": "code",
   "execution_count": null,
   "id": "e6f528b4",
   "metadata": {},
   "outputs": [],
   "source": [
    "#WAP to calculate percentage of a student through 5 subjects. Take marks as input from the user               #dout\n",
    "maths_num = int(input('enter marks'))\n",
    "English_num = int(input('enter marks'))\n",
    "hindi_num = int(input('enter marks'))\n",
    "science_num = int(input('enter marks'))\n",
    "soocial_num = int(input('enter marks'))\n",
    "for i in range (maths_num+English_num+hindi_num+science_num+soocial_num):\n",
    "    per = (i)%5\n",
    "print(per)"
   ]
  },
  {
   "cell_type": "code",
   "execution_count": 3,
   "id": "6b632917",
   "metadata": {},
   "outputs": [
    {
     "name": "stdout",
     "output_type": "stream",
     "text": [
      "2\n",
      "4\n",
      "6\n",
      "8\n",
      "9\n"
     ]
    }
   ],
   "source": [
    "#Write a Python program to count the number of even and odd numbers from a list of numbers.\n",
    "\t#e.g. i\\p: [1, 2, 3, 4, 5, 6, 7, 8, 9]\n",
    "l = [1, 2, 3, 4, 5, 6, 7, 8, 9]\n",
    "even_num = []\n",
    "odd_num = []\n",
    "count = 0\n",
    "for i in l:\n",
    "    if i%2==0:\n",
    "        count=+1\n",
    "        print(i)\n",
    "else:print(i)      "
   ]
  },
  {
   "cell_type": "code",
   "execution_count": null,
   "id": "4b60e126",
   "metadata": {},
   "outputs": [],
   "source": [
    "s = 'helloh'\n",
    "l=[] \n",
    "for i in s:\n",
    "    a=s.count(i)\n",
    "    print(a)\n",
    "    l.append(a)\n",
    "m=l.index(min(l))\n",
    "print(s[m])\n",
    "\n",
    "    "
   ]
  },
  {
   "cell_type": "code",
   "execution_count": null,
   "id": "55285495",
   "metadata": {},
   "outputs": [],
   "source": [
    "l = [4,11,9,10]\n",
    "l1 = ['hi',5, 6,'yo']             #o/p '4hi1159610yo'\n",
    "for i in str(len(l)):\n",
    "    if l.append(l):\n",
    "        a=l.count(i)\n",
    "        print(l)\n",
    "for j in str(len(l1)):\n",
    "    a=l1.index(l(l1))\n",
    "\n",
    "\n",
    "\n"
   ]
  },
  {
   "cell_type": "code",
   "execution_count": null,
   "id": "373ee8f2",
   "metadata": {},
   "outputs": [],
   "source": [
    "# d = {'C':969 , 'v':123, 'd':465, 'n':789, 'R':951}    \n",
    "o/p d = {'C':969 , 'd':465, 'n':789, 'R':951,'v':123, }"
   ]
  },
  {
   "cell_type": "code",
   "execution_count": 1,
   "id": "f22d4a54",
   "metadata": {},
   "outputs": [
    {
     "ename": "KeyboardInterrupt",
     "evalue": "",
     "output_type": "error",
     "traceback": [
      "\u001b[1;31m---------------------------------------------------------------------------\u001b[0m",
      "\u001b[1;31mKeyboardInterrupt\u001b[0m                         Traceback (most recent call last)",
      "\u001b[1;32mc:\\Users\\LENOVO\\Desktop\\shubhigupta work\\Untitled.ipynb Cell 20\u001b[0m line \u001b[0;36m3\n\u001b[0;32m      <a href='vscode-notebook-cell:/c%3A/Users/LENOVO/Desktop/shubhigupta%20work/Untitled.ipynb#X25sZmlsZQ%3D%3D?line=0'>1</a>\u001b[0m l\u001b[39m=\u001b[39m[\u001b[39m75\u001b[39m,\u001b[39m34\u001b[39m,\u001b[39m78\u001b[39m,\u001b[39m65\u001b[39m,\u001b[39m81\u001b[39m]\n\u001b[0;32m      <a href='vscode-notebook-cell:/c%3A/Users/LENOVO/Desktop/shubhigupta%20work/Untitled.ipynb#X25sZmlsZQ%3D%3D?line=1'>2</a>\u001b[0m i\u001b[39m=\u001b[39m\u001b[39m0\u001b[39m\n\u001b[1;32m----> <a href='vscode-notebook-cell:/c%3A/Users/LENOVO/Desktop/shubhigupta%20work/Untitled.ipynb#X25sZmlsZQ%3D%3D?line=2'>3</a>\u001b[0m \u001b[39mwhile\u001b[39;00m i \u001b[39m<\u001b[39m \u001b[39mlen\u001b[39m(l):\n\u001b[0;32m      <a href='vscode-notebook-cell:/c%3A/Users/LENOVO/Desktop/shubhigupta%20work/Untitled.ipynb#X25sZmlsZQ%3D%3D?line=3'>4</a>\u001b[0m     \u001b[39mif\u001b[39;00m i\u001b[39m==\u001b[39ml:\n\u001b[0;32m      <a href='vscode-notebook-cell:/c%3A/Users/LENOVO/Desktop/shubhigupta%20work/Untitled.ipynb#X25sZmlsZQ%3D%3D?line=4'>5</a>\u001b[0m         l\u001b[39m.\u001b[39mappend( )\n",
      "\u001b[1;31mKeyboardInterrupt\u001b[0m: "
     ]
    }
   ],
   "source": [
    "l=[75,34,78,65,81]\n",
    "i=0\n",
    "while i < len(l):\n",
    "    if i==l:\n",
    "      l.append( )\n",
    "        print(i)"
   ]
  },
  {
   "cell_type": "code",
   "execution_count": null,
   "id": "f24f9854",
   "metadata": {},
   "outputs": [],
   "source": [
    "l=[9254, 910,5876,6396,9845]\n",
    "i=0\n",
    "while i < len(l):\n",
    "    if str(int(i)):\n",
    "    #if else questions \n",
    "#write a  no. of program to display a \"hello\"  if no. enrterd by user isna multiple of five otherwisr print \"bye\"\n",
    "\n",
    "num=int(input(enter  the value)):\n",
    "    if num%5==0:\n",
    "    print(Hello)\n",
    "else:\n",
    "    print (Bye)[0]==9:\n",
    "        print(i)\n",
    "    i+=1\n",
    "    print(i)\n",
    "    if str(int(i))[0]==9:\n",
    "        print (i)"
   ]
  },
  {
   "cell_type": "code",
   "execution_count": null,
   "id": "21f76b17",
   "metadata": {},
   "outputs": [],
   "source": [
    "#wrote a print to program a table of a number (accpect from the user) in the following formate \n",
    "#o/p 7*1 = 7 like that \n",
    "num = int(input(\"Enter the number\"))\n",
    "for i in range (1,11):\n",
    "    print(num,\"*\",i,\"=\",num*i)"
   ]
  },
  {
   "cell_type": "code",
   "execution_count": 2,
   "id": "593bd5b7",
   "metadata": {},
   "outputs": [
    {
     "name": "stdout",
     "output_type": "stream",
     "text": [
      "4 4 4 4 \n",
      "3 3 3 \n",
      "2 2 \n",
      "1 \n"
     ]
    }
   ],
   "source": [
    "#write a program to print a partten                                                  #dout\n",
    "#4444\n",
    "#333\n",
    "#22\n",
    "#1\n",
    "for i in range (4,0,-1):\n",
    "    for j in range (1,i+1):\n",
    "        print(i,end=' ')\n",
    "    print()"
   ]
  },
  {
   "cell_type": "code",
   "execution_count": 1,
   "id": "c5531b39",
   "metadata": {},
   "outputs": [
    {
     "name": "stdout",
     "output_type": "stream",
     "text": [
      "A B B C C C D D D D E E E E E \n"
     ]
    }
   ],
   "source": [
    "#write a program to print a partten\n",
    "#A\n",
    "#B C\n",
    "#D E F\n",
    "#G H I J\n",
    "#K L M N O\n",
    "I = 65\n",
    "for i in range (1,6):\n",
    "    for j in range (1,i+1):\n",
    "        print(chr(I),end=' ')\n",
    "    I=1+I\n",
    "print()\n",
    "I=65"
   ]
  },
  {
   "cell_type": "code",
   "execution_count": null,
   "id": "e86a9b79",
   "metadata": {},
   "outputs": [],
   "source": [
    "#write a program to the sum of following (accpet values of a,r,n  from user)\n",
    "#a + ar + ar**2 +ar**3...................ar**n\n"
   ]
  },
  {
   "cell_type": "code",
   "execution_count": null,
   "id": "dfd9c558",
   "metadata": {},
   "outputs": [],
   "source": [
    "#loap to print all the multiple of 3.\n",
    "l = [44,33,10,90,48,51]\n",
    "for i in l:\n",
    "    sum=0\n",
    "    if i%3==0:\n",
    "        sum=i+1\n",
    "        print(i)"
   ]
  },
  {
   "cell_type": "code",
   "execution_count": null,
   "metadata": {},
   "outputs": [],
   "source": [
    "#write a print all the even indexed element from a string input from user\n",
    "str = 'How Are You'\n",
    "even_characters = []\n",
    "odd_characters = []  \n",
    "for i in range(len(str)):\n",
    "    if i % 2 == 0: \n",
    "        even_characters.append(str[i])\n",
    "    else:\n",
    "        odd_characters.append(str[i])\n",
    "print('Odd characters:',(odd_characters))\n",
    "print('Even characters:',(even_characters))"
   ]
  },
  {
   "cell_type": "code",
   "execution_count": null,
   "id": "09e1320c",
   "metadata": {},
   "outputs": [],
   "source": [
    "t = ['44','25','56','72','103']\n",
    "#print all the strings for which the last digit is even.\n",
    "for i in t:\n",
    "    if int(i[-1])%2==0:\n",
    "        print(i)"
   ]
  },
  {
   "cell_type": "code",
   "execution_count": null,
   "metadata": {},
   "outputs": [],
   "source": [
    "l = ['9787', '8354', '9910', '73215', '986']\n",
    "#print a the no. which start with 9 and 4 digit no.\n",
    "for i in l:\n",
    "    if int(i[0])%9==0 and int(i[0])%4==0:\n",
    "        print(i)"
   ]
  },
  {
   "cell_type": "code",
   "execution_count": null,
   "id": "8b7b2832",
   "metadata": {},
   "outputs": [],
   "source": [
    "#Write a program to reverse an integer in Python\n",
    "n= int(input(\"start( )\"))\n",
    "m= int(input(\"stop( )\"))\n",
    "for i in range(10,1,-1):\n",
    "    print(i,end=' ')\n"
   ]
  },
  {
   "cell_type": "code",
   "execution_count": null,
   "id": "71bef4b8",
   "metadata": {},
   "outputs": [],
   "source": [
    "#Write a program in Python to check given number is prime or not.\n",
    "n= int(input('given num'))\n",
    "i,l = 0,0\n",
    "for i in range(2,n//2):\n",
    "    if n%i==0:\n",
    "        l=1\n",
    "        break\n",
    "if l == 1:\n",
    "    print('not prime number')\n",
    "else:\n",
    "        print('prime number')"
   ]
  },
  {
   "cell_type": "code",
   "execution_count": null,
   "id": "824201bf",
   "metadata": {},
   "outputs": [],
   "source": [
    "#Write a program in Python to check whether an integer is Armstrong number or not.                dout"
   ]
  },
  {
   "cell_type": "code",
   "execution_count": null,
   "id": "85f516c9",
   "metadata": {},
   "outputs": [],
   "source": [
    "#Python Program to check a given number is even or odd.\n",
    "n= int(input('given num'))\n",
    "for i in range (2,n//2):\n",
    "    if n%2==0:\n",
    "        print('given number even')\n",
    "    else: print('give number odd')"
   ]
  },
  {
   "cell_type": "code",
   "execution_count": null,
   "id": "a72b8f50",
   "metadata": {},
   "outputs": [],
   "source": [
    "#Python Program to print Prime Number in a given range\n",
    "for i in range (1,13,2):\n",
    "    print(i)"
   ]
  },
  {
   "cell_type": "code",
   "execution_count": null,
   "id": "aaf1ede9",
   "metadata": {},
   "outputs": [],
   "source": []
  },
  {
   "cell_type": "code",
   "execution_count": null,
   "id": "1dbc973c",
   "metadata": {},
   "outputs": [],
   "source": [
    "x=16\n",
    "s = x*4\n",
    "print(s)"
   ]
  },
  {
   "cell_type": "code",
   "execution_count": null,
   "id": "bd35f367",
   "metadata": {},
   "outputs": [],
   "source": [
    "add = lambda x,y: x+y\n",
    "print(add(10,12))"
   ]
  },
  {
   "cell_type": "code",
   "execution_count": null,
   "id": "f5e31a4a",
   "metadata": {},
   "outputs": [],
   "source": [
    "(lambda x,y : x+y)(10,12)"
   ]
  },
  {
   "cell_type": "code",
   "execution_count": null,
   "id": "ba673ea2",
   "metadata": {},
   "outputs": [],
   "source": [
    "l = [10,12,13,14]\n",
    "print((lambda k: [i**2 for i in k])(l))\n"
   ]
  },
  {
   "cell_type": "code",
   "execution_count": null,
   "id": "74af269e",
   "metadata": {},
   "outputs": [],
   "source": [
    "n = 20\n",
    "print((lambda k:\"odd\" if n%2==1 else\"even\")(n))"
   ]
  },
  {
   "cell_type": "code",
   "execution_count": null,
   "id": "4a449afa",
   "metadata": {},
   "outputs": [],
   "source": [
    "l = ('45428349')                                   #  syntax = map(funcation name, collection)\n",
    "l1 = list(map(int,l))\n",
    "print(l1)"
   ]
  },
  {
   "cell_type": "code",
   "execution_count": null,
   "id": "d997a864",
   "metadata": {},
   "outputs": [],
   "source": [
    "l = ['a b','c d','e f','g h']\n",
    "#['a','c','e','g']\n",
    "def some(l):\n",
    "    l1 = []\n",
    "    for i in l:\n",
    "        a = i.split()\n",
    "        l1.append(i[0])\n",
    "    return(l1)\n",
    "p=some(l)\n",
    "print(p)"
   ]
  },
  {
   "cell_type": "code",
   "execution_count": null,
   "id": "4d30d181",
   "metadata": {},
   "outputs": [],
   "source": [
    "num = int(input(\"Enter the age\"))\n",
    "if num>=18:\n",
    "    print(\"Eligable for voting\")\n",
    "else:\n",
    "    print(\"Under 18\")"
   ]
  },
  {
   "cell_type": "code",
   "execution_count": null,
   "id": "754746bc",
   "metadata": {},
   "outputs": [],
   "source": [
    "num = int(input(\"Enter the value\"))\n",
    "if num>50:\n",
    "    print(\"people under the citizen\")\n",
    "else:\n",
    "    (\"not under the citizen\")"
   ]
  },
  {
   "cell_type": "code",
   "execution_count": null,
   "id": "0e385245",
   "metadata": {},
   "outputs": [],
   "source": [
    "num1 = int(input(\"Enter the 1st value\"))\n",
    "num2 = int(input(\"Enter the 2nd value\"))\n",
    "if num1>num2:\n",
    "    print(\"smaller number is:\",num2)\n",
    "else:\n",
    "    print(\"Smaller value is:\",num1)"
   ]
  },
  {
   "cell_type": "code",
   "execution_count": null,
   "id": "86764485",
   "metadata": {},
   "outputs": [],
   "source": [
    "num1 = int(input(\"Enter the 1st value\"))\n",
    "num2 = int(input(\"Enter the 2nd value\"))\n",
    "if num1>num2:\n",
    "    print(\"grater number is:\",num1)\n",
    "else:\n",
    "    print(\"grater value is:\",num2)"
   ]
  },
  {
   "cell_type": "code",
   "execution_count": null,
   "id": "e3b06f57",
   "metadata": {},
   "outputs": [],
   "source": [
    "number = int(input(\"Enter the value\"))\n",
    "if number>0:\n",
    "    print(\"positive\")\n",
    "else:\n",
    "    print(\"negitive\")"
   ]
  },
  {
   "cell_type": "code",
   "execution_count": null,
   "id": "1970eaeb",
   "metadata": {},
   "outputs": [],
   "source": [
    "num = int(input(\"Enter the number\"))\n",
    "if num%2==0:\n",
    "    print(\"even number\")\n",
    "else:\n",
    "    print(\"odd number\")"
   ]
  },
  {
   "cell_type": "code",
   "execution_count": null,
   "id": "7b62e8b7",
   "metadata": {},
   "outputs": [],
   "source": [
    "num = int(input(\"Enter the number\"))\n",
    "if num%2==0 and num%3==0:\n",
    "    print(\"divisible of both 2 and 3\")\n",
    "else:\n",
    "    print(\"not divisible of  both\")"
   ]
  },
  {
   "cell_type": "code",
   "execution_count": null,
   "id": "27264659",
   "metadata": {},
   "outputs": [],
   "source": [
    "num1 = int(input('Enter the value'))\n",
    "num2 = int(input('Enter the value'))\n",
    "num3 = int(input('Enter the value'))\n",
    "if num1>num2 and num1>num3:\n",
    "    print(\"greater number is:\",num1)\n",
    "if num2>num1 and num2>num3:\n",
    "    print(\"greater number is:\",num2)\n",
    "if num3>num1 and num3>num2:\n",
    "    print(\"greater number is:\",num3)"
   ]
  },
  {
   "cell_type": "code",
   "execution_count": null,
   "id": "a9ebd1c7",
   "metadata": {},
   "outputs": [],
   "source": [
    "age1 = int(input(\"enter the value\"))\n",
    "age2 = int(input(\"enter the value\"))\n",
    "age3 = int(input(\"enter the value\"))\n",
    "age4 = int(input(\"enter the value\"))\n",
    "if age1<age2 and age1<age3 and age1<age4:\n",
    "    print(\"People younger:\",age1)\n",
    "if age2<age1 and age2<age3 and age2<age4:\n",
    "    print(\"People younger:\",age2)\n",
    "if age3<age1 and age3<age2 and age3<age4:\n",
    "    print(\"People younger:\",age3)\n",
    "if age4<age1 and age4<age2 and age4<age3:\n",
    "    print(\"People younger:\",age4)"
   ]
  },
  {
   "cell_type": "code",
   "execution_count": null,
   "id": "6d0a32a0",
   "metadata": {},
   "outputs": [],
   "source": [
    "age1 = int(input(\"enter the value\"))\n",
    "age2 = int(input(\"enter the value\"))\n",
    "age3 = int(input(\"enter the value\"))\n",
    "age4 = int(input(\"enter the value\"))\n",
    "if age1>age2 and age1>age3 and age1>age4:\n",
    "    print(\"People younger:\",age1)\n",
    "if age2>age1 and age2>age3 and age2>age4:\n",
    "    print(\"People younger:\",age2)\n",
    "if age3>age1 and age3>age2 and age3>age4:\n",
    "    print(\"People younger:\",age3)\n",
    "if age4>age1 and age4>age2 and age4>age3:\n",
    "    print(\"People younger:\",age4)"
   ]
  },
  {
   "cell_type": "code",
   "execution_count": null,
   "id": "ec6c861c",
   "metadata": {},
   "outputs": [],
   "source": [
    "n = int(input('enter the value'))\n",
    "for i in range(1,n+1):\n",
    "    print(i**2)"
   ]
  },
  {
   "cell_type": "code",
   "execution_count": null,
   "id": "24f67f83",
   "metadata": {},
   "outputs": [],
   "source": [
    "for i in range(1,10):\n",
    "    print(i)"
   ]
  },
  {
   "cell_type": "code",
   "execution_count": null,
   "id": "cfc93545",
   "metadata": {},
   "outputs": [],
   "source": []
  },
  {
   "cell_type": "code",
   "execution_count": null,
   "id": "b67a78e9",
   "metadata": {},
   "outputs": [],
   "source": [
    "l = ['bharat', 'annaya', 'pooja', 'sachin', 'vikash', 'arohi', 'sakshi', 'nakul', 'anjali' , 'megha' ]\n",
    "for i in l:\n",
    "    if i[0] == 'b' or i[0] == 'p' or i[0] == 's' or i[0] == 'v':\n",
    "        print(i)"
   ]
  },
  {
   "cell_type": "code",
   "execution_count": null,
   "id": "22442ab4",
   "metadata": {},
   "outputs": [],
   "source": [
    "l = ['bharat', 'annaya', 'pooja', 'sachin', 'vikash', 'arohi', 'sakshi', 'nakul', 'anjali' , 'megha' ]\n",
    "l1 = 'bpsv'\n",
    "for i in range(len(l)):\n",
    "    if (i % 2 == 0) and (l[i][0] in l1):\n",
    "        print(i)\n",
    "        "
   ]
  },
  {
   "cell_type": "code",
   "execution_count": null,
   "id": "c43493ab",
   "metadata": {},
   "outputs": [],
   "source": [
    "l = ['R100', '$50', 'R123','R200', '$100']\n",
    "for i in l:\n",
    "    if i[0] == 'R' and i[-1] == '0':\n",
    "        print(i)"
   ]
  },
  {
   "cell_type": "code",
   "execution_count": null,
   "id": "fda881e0",
   "metadata": {},
   "outputs": [],
   "source": [
    "k = 0\n",
    "num = int(input(\"Enter the vaule\"))\n",
    "if num == 0 or num == 1:\n",
    "    k = 1\n",
    "for i in range(2,num):\n",
    "    k=1\n",
    "if k==1:\n",
    "    print(\"Number is not prime\")\n",
    "else:\n",
    "    print(\"Number is prime\")"
   ]
  },
  {
   "cell_type": "code",
   "execution_count": null,
   "id": "1df346a0",
   "metadata": {},
   "outputs": [],
   "source": [
    "#wriote a program to check a character is vowel or not\n",
    "s = input(\"Enter the word\")\n",
    "s1 = 'aeiouAEIOU'\n",
    "if s in s1:\n",
    "    print(\"character is vowel\")\n",
    "else: print('charcter is not vowel')"
   ]
  },
  {
   "cell_type": "code",
   "execution_count": null,
   "id": "4e041e28",
   "metadata": {},
   "outputs": [],
   "source": [
    "l = ['tomato', 'potato', 'tomato','oleva','tomato','potato']\n",
    "#o/p = Tomato 3kg and potato 2kg\n",
    "tc=pc=oc = 0\n",
    "for veg in l:\n",
    "    if veg == 'tomato':\n",
    "        tc =+1\n",
    "    elif veg == 'potato':\n",
    "        pc =+1\n",
    "    elif veg == 'oleva':\n",
    "        oc =+1\n",
    "else: \n",
    "    if tc>pc or tc>oc: print(tc)\n",
    "    if pc>tc or pc>oc: print(pc)\n",
    "    if oc>tc or oc>pc: print(oc)\n",
    "    if tc<pc or tc<oc: print(tc)\n",
    "    if pc<tc or pc<oc: print(pc)\n",
    "    if oc<tc or oc<pc: print(oc)\n",
    "\n",
    "\n",
    " "
   ]
  },
  {
   "cell_type": "code",
   "execution_count": null,
   "id": "14aadef6",
   "metadata": {},
   "outputs": [],
   "source": [
    "m = ['M', 'F', 'M', 'M','F','M','F']\n",
    "n = [10,9,8,10,7,7,10]\n",
    "for i in m:\n",
    "    for j in n:\n",
    "        if  j[i] == 'M':\n",
    "            j += 1 \n",
    "            print(i)\n"
   ]
  },
  {
   "cell_type": "code",
   "execution_count": null,
   "id": "8b26dc7e",
   "metadata": {},
   "outputs": [],
   "source": []
  },
  {
   "cell_type": "code",
   "execution_count": null,
   "id": "01c15ce6",
   "metadata": {},
   "outputs": [],
   "source": [
    "questions = (\"In 1768, Captain James Cook set out to explore which ocean?: \",\n",
    "             \"What is actually electricity?:\",\n",
    "             \"Which of the following is not an international organisation?:\",\n",
    "             \"Which of the following disorders is the fear of being alone?:\")\n",
    "options = ((\"A.Pacific Ocean \",\"B.Atlantic Ocean \",\"C.Indian Ocean \",\"D. Arctic Ocean \"),\n",
    "           (\"A.A flow of water \",\"B. A flow of air \",\"C.A flow of electrons \",\"D.A flow of atoms \"),\n",
    "           (\"A.FIFA \",\"B.NATO\" ,\"C. ASEAN \",\"D.FBI\"),\n",
    "           (\"A.Agoraphobia   \",\"B.Aerophobia \",\"C.Acrophobia \",\"D.Arachnophobia\"))\n",
    "answer = (\"A. Pacific Ocean\",\"C. A flow of electrons\",\"D. FBI\",\"A. Agoraphobia\")\n",
    "guesses = []\n",
    "score = 0\n",
    "question_num = 0\n",
    "for question in questions:\n",
    "    print(\"--------------------------\")\n",
    "    print(question)\n",
    "    for option in options[question_num]:\n",
    "        print(option)\n",
    "\n",
    "    guess = input('enter the answer')\n",
    "    guesses.append(guess)\n",
    "    if guess == answer[question_num]:\n",
    "        score += 10\n",
    "        print(\"CORRECT!\")\n",
    "    else:\n",
    "        print(\"INCORRECT!\")\n",
    "        print(f\"{answer[question_num]}\")\n",
    "    question_num +=1\n",
    "\n",
    "print(\"--------------------------------------\")\n",
    "print(\"           RESULTS                \")\n",
    "print(\"--------------------------------------\")\n",
    "\n",
    "print(\"guesses:\", end=\"\")\n",
    "for guess in guesses:\n",
    "    print(guess, end=\" \")\n",
    "print()\n",
    "\n",
    "score = int(score / len(questions))\n",
    "print(f\"your score is:{score}\")"
   ]
  },
  {
   "cell_type": "code",
   "execution_count": null,
   "id": "237bf70e",
   "metadata": {},
   "outputs": [],
   "source": [
    "import random\n",
    "for i in range(10):\n",
    "    player1 = random.randint(1,6)\n",
    "    player2 = random.randint(1,6)\n",
    "    if player1>player2:\n",
    "        print(\"player1 win\")\n",
    "    elif player1<player2:\n",
    "        print(\"player2 win\")\n",
    "    else:\n",
    "        print(\"tie\")"
   ]
  },
  {
   "cell_type": "code",
   "execution_count": null,
   "id": "28a2ff7e",
   "metadata": {},
   "outputs": [],
   "source": [
    "l = ['rahul','sakshi', 'vishal', 'gaurav']\n",
    "for i in range(len(l)-1,-1,-1):\n",
    "    print(l[i])\n",
    "    for j in range(len(l[i])-1,-1,-1):\n",
    "        print(l[i][j])\n"
   ]
  },
  {
   "cell_type": "code",
   "execution_count": null,
   "id": "f1115c19",
   "metadata": {},
   "outputs": [],
   "source": [
    "for i in range(10,2,-1):\n",
    "    print(i)"
   ]
  },
  {
   "cell_type": "markdown",
   "id": "ae6750b9",
   "metadata": {},
   "source": [
    "KBC PROJECT"
   ]
  },
  {
   "cell_type": "code",
   "execution_count": null,
   "id": "3006229a",
   "metadata": {},
   "outputs": [],
   "source": [
    "questions = (\"In 1768, Captain James Cook set out to explore which ocean?: \",\n",
    "             \"What is actually electricity?:\",\n",
    "             \"Which of the following is not an international organisation?:\",\n",
    "             \"Which of the following disorders is the fear of being alone?:\",\n",
    "             \"The two biggest exporters of beers in Europe are Germany\",\n",
    "             \"The phrase: ”I think, therefore I am” was coined by which philosopher\",\n",
    "             \"In the series “Game of Thrones”, Winterfell is the ancestral home of which family\")\n",
    "options = ((\"A.Pacific Ocean \",\"B.Atlantic Ocean \",\"C.Indian Ocean \",\"D. Arctic Ocean \"),\n",
    "           (\"A.A flow of water \",\"B. A flow of air \",\"C.A flow of electrons \",\"D.A flow of atoms \"),\n",
    "           (\"A.FIFA \",\"B.NATO\" ,\"C. ASEAN \",\"D.FBI\"),\n",
    "           (\"A.Agoraphobia   \",\"B.Aerophobia \",\"C.Acrophobia \",\"D.Arachnophobia\"),\n",
    "           ('A. Spain',\"B. France\",\"C. Italy\",\"D. Belgium\"),\n",
    "           (\"A. Socrates\",\"B. Plato\",\"C. Aristotle\",\"D. Descartes\"),\n",
    "           (\"A. The Lannisters\",\"B. The Starks\",\"C. The Tully’s\",\"D. The Targaryens\"))\n",
    "answer = (\"pacific ocean\",\" a flow of electrons\",\"FBI\",\"agoraphobia\",\"Belgium\",\"Descartes\",\"The Starks\" )\n",
    "guesses = []\n",
    "score = 0\n",
    "question_num = 0\n",
    "for question in questions:\n",
    "    print(question)\n",
    "    for option in options[question_num]:\n",
    "        print(option)\n",
    "\n",
    "    guess = input('enter the answer')\n",
    "    guesses.append(guess)\n",
    "    if guess == answer[question_num]:\n",
    "        score += 1000\n",
    "        print(\"CORRECT!\")\n",
    "    else:\n",
    "        print(\"INCORRECT!\")\n",
    "        print(f\"{answer[question_num]}\")\n",
    "    question_num +=1\n",
    "print(\"           RESULTS                \")\n",
    "print(\"guesses:\", end=\"\")\n",
    "\n",
    "score = int(score / len(questions))\n",
    "print(f\"your score is:{score}\")\n"
   ]
  },
  {
   "cell_type": "code",
   "execution_count": null,
   "id": "83b9c3b0",
   "metadata": {},
   "outputs": [],
   "source": [
    "num = int(input(\"enter the value\"))\n",
    "for i in range(1,11):\n",
    "    print(num,'*',i,'=',num*i)\n"
   ]
  },
  {
   "cell_type": "code",
   "execution_count": null,
   "id": "54221c49",
   "metadata": {},
   "outputs": [],
   "source": [
    "b = 5\n",
    "while(b<9):\n",
    "    print(\"H\")\n",
    "    b+=1"
   ]
  },
  {
   "cell_type": "code",
   "execution_count": null,
   "id": "8603f4ec",
   "metadata": {},
   "outputs": [],
   "source": [
    "l = [23,59.5,'hi', True]\n",
    "l.reverse()\n",
    "print(l)"
   ]
  },
  {
   "cell_type": "code",
   "execution_count": null,
   "id": "328dd2d5",
   "metadata": {},
   "outputs": [],
   "source": [
    "t = (23,59.5, 'hi',True)\n",
    "t1 = t[::-1]"
   ]
  },
  {
   "cell_type": "code",
   "execution_count": null,
   "id": "bd155a51",
   "metadata": {},
   "outputs": [],
   "source": [
    "l = [23,59.5,'hi', True]\n",
    "l.clear()\n",
    "print(l)"
   ]
  },
  {
   "cell_type": "code",
   "execution_count": null,
   "id": "7ba9ce29",
   "metadata": {},
   "outputs": [],
   "source": [
    "l = [1,2,3]\n",
    "k = l\n",
    "m = l.copy()\n",
    "print(k)\n",
    "k.append(5)\n",
    "print(l)\n",
    "print(m)"
   ]
  },
  {
   "cell_type": "code",
   "execution_count": null,
   "id": "226cd31c",
   "metadata": {},
   "outputs": [],
   "source": [
    "d = {'hi','hello','bro','yo'}\n",
    "x = d.copy()\n",
    "print(x)"
   ]
  },
  {
   "cell_type": "code",
   "execution_count": null,
   "id": "eb9c2553",
   "metadata": {},
   "outputs": [],
   "source": [
    "s = {12:15, 6:'hi', 11:'yo'}\n",
    "x = s.copy()\n",
    "print(x)"
   ]
  },
  {
   "cell_type": "code",
   "execution_count": null,
   "metadata": {},
   "outputs": [],
   "source": [
    "s = \"8742239485\"\n",
    "c = 0\n",
    "for i in s:\n",
    "    if int(i[0])%2==0:\n",
    "        c = i+c\n",
    "        print(c)"
   ]
  },
  {
   "cell_type": "code",
   "execution_count": null,
   "id": "6876393d",
   "metadata": {},
   "outputs": [],
   "source": []
  }
 ],
 "metadata": {
  "kernelspec": {
   "display_name": "Python 3 (ipykernel)",
   "language": "python",
   "name": "python3"
  },
  "language_info": {
   "codemirror_mode": {
    "name": "ipython",
    "version": 3
   },
   "file_extension": ".py",
   "mimetype": "text/x-python",
   "name": "python",
   "nbconvert_exporter": "python",
   "pygments_lexer": "ipython3",
   "version": "3.11.9"
  }
 },
 "nbformat": 4,
 "nbformat_minor": 5
}
